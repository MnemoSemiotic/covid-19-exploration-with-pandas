{
 "cells": [
  {
   "cell_type": "markdown",
   "metadata": {},
   "source": [
    "## Some data exploration with `pandas`\n",
    "* find datasets at: https://datasetsearch.research.google.com/\n",
    "* see this repo: https://github.com/clownfragment/covid-19-exploration-with-pandas\n",
    "\n",
    "\n"
   ]
  },
  {
   "cell_type": "code",
   "execution_count": 10,
   "metadata": {},
   "outputs": [],
   "source": [
    "# imports\n",
    "import pandas as pd"
   ]
  },
  {
   "cell_type": "markdown",
   "metadata": {},
   "source": [
    "### COVID-19 data from data.europa.eu\n",
    "* https://data.europa.eu/euodp/en/data/dataset/covid-19-coronavirus-data"
   ]
  },
  {
   "cell_type": "code",
   "execution_count": 11,
   "metadata": {},
   "outputs": [],
   "source": [
    "# import .csv into a dataframe (df)\n",
    "df = pd.read_csv('data/2020_04_07__data_europa_eu__covid_19_data.csv')"
   ]
  },
  {
   "cell_type": "markdown",
   "metadata": {},
   "source": [
    "### Basics of your data\n",
    "* \"object\" means it could be a string, some non-numeric value\n",
    "* `pandas` is going to impute the datatype of the column"
   ]
  },
  {
   "cell_type": "code",
   "execution_count": 12,
   "metadata": {},
   "outputs": [
    {
     "name": "stdout",
     "output_type": "stream",
     "text": [
      "<class 'pandas.core.frame.DataFrame'>\n",
      "RangeIndex: 9310 entries, 0 to 9309\n",
      "Data columns (total 10 columns):\n",
      "dateRep                    9310 non-null object\n",
      "day                        9310 non-null int64\n",
      "month                      9310 non-null int64\n",
      "year                       9310 non-null int64\n",
      "cases                      9310 non-null int64\n",
      "deaths                     9310 non-null int64\n",
      "countriesAndTerritories    9310 non-null object\n",
      "geoId                      9286 non-null object\n",
      "countryterritoryCode       9125 non-null object\n",
      "popData2018                9172 non-null float64\n",
      "dtypes: float64(1), int64(5), object(4)\n",
      "memory usage: 727.4+ KB\n"
     ]
    }
   ],
   "source": [
    "df.info()"
   ]
  },
  {
   "cell_type": "code",
   "execution_count": 13,
   "metadata": {},
   "outputs": [
    {
     "data": {
      "text/plain": [
       "(9310, 10)"
      ]
     },
     "execution_count": 13,
     "metadata": {},
     "output_type": "execute_result"
    }
   ],
   "source": [
    "# get the dimensions of the dataframe\n",
    "df.shape"
   ]
  },
  {
   "cell_type": "code",
   "execution_count": 14,
   "metadata": {},
   "outputs": [
    {
     "data": {
      "text/plain": [
       "Index(['dateRep', 'day', 'month', 'year', 'cases', 'deaths',\n",
       "       'countriesAndTerritories', 'geoId', 'countryterritoryCode',\n",
       "       'popData2018'],\n",
       "      dtype='object')"
      ]
     },
     "execution_count": 14,
     "metadata": {},
     "output_type": "execute_result"
    }
   ],
   "source": [
    "df.columns"
   ]
  },
  {
   "cell_type": "code",
   "execution_count": 15,
   "metadata": {},
   "outputs": [
    {
     "data": {
      "text/html": [
       "<div>\n",
       "<style scoped>\n",
       "    .dataframe tbody tr th:only-of-type {\n",
       "        vertical-align: middle;\n",
       "    }\n",
       "\n",
       "    .dataframe tbody tr th {\n",
       "        vertical-align: top;\n",
       "    }\n",
       "\n",
       "    .dataframe thead th {\n",
       "        text-align: right;\n",
       "    }\n",
       "</style>\n",
       "<table border=\"1\" class=\"dataframe\">\n",
       "  <thead>\n",
       "    <tr style=\"text-align: right;\">\n",
       "      <th></th>\n",
       "      <th>day</th>\n",
       "      <th>month</th>\n",
       "      <th>year</th>\n",
       "      <th>cases</th>\n",
       "      <th>deaths</th>\n",
       "      <th>popData2018</th>\n",
       "    </tr>\n",
       "  </thead>\n",
       "  <tbody>\n",
       "    <tr>\n",
       "      <th>count</th>\n",
       "      <td>9310.000000</td>\n",
       "      <td>9310.000000</td>\n",
       "      <td>9310.000000</td>\n",
       "      <td>9310.000000</td>\n",
       "      <td>9310.000000</td>\n",
       "      <td>9.172000e+03</td>\n",
       "    </tr>\n",
       "    <tr>\n",
       "      <th>mean</th>\n",
       "      <td>15.713426</td>\n",
       "      <td>2.561117</td>\n",
       "      <td>2019.992803</td>\n",
       "      <td>141.459506</td>\n",
       "      <td>7.955532</td>\n",
       "      <td>6.488272e+07</td>\n",
       "    </tr>\n",
       "    <tr>\n",
       "      <th>std</th>\n",
       "      <td>9.462419</td>\n",
       "      <td>1.281713</td>\n",
       "      <td>0.084531</td>\n",
       "      <td>1104.270540</td>\n",
       "      <td>66.660811</td>\n",
       "      <td>2.026134e+08</td>\n",
       "    </tr>\n",
       "    <tr>\n",
       "      <th>min</th>\n",
       "      <td>1.000000</td>\n",
       "      <td>1.000000</td>\n",
       "      <td>2019.000000</td>\n",
       "      <td>-9.000000</td>\n",
       "      <td>0.000000</td>\n",
       "      <td>1.000000e+03</td>\n",
       "    </tr>\n",
       "    <tr>\n",
       "      <th>25%</th>\n",
       "      <td>6.000000</td>\n",
       "      <td>2.000000</td>\n",
       "      <td>2020.000000</td>\n",
       "      <td>0.000000</td>\n",
       "      <td>0.000000</td>\n",
       "      <td>3.731000e+06</td>\n",
       "    </tr>\n",
       "    <tr>\n",
       "      <th>50%</th>\n",
       "      <td>16.000000</td>\n",
       "      <td>3.000000</td>\n",
       "      <td>2020.000000</td>\n",
       "      <td>0.000000</td>\n",
       "      <td>0.000000</td>\n",
       "      <td>1.062716e+07</td>\n",
       "    </tr>\n",
       "    <tr>\n",
       "      <th>75%</th>\n",
       "      <td>24.000000</td>\n",
       "      <td>3.000000</td>\n",
       "      <td>2020.000000</td>\n",
       "      <td>12.000000</td>\n",
       "      <td>0.000000</td>\n",
       "      <td>4.449450e+07</td>\n",
       "    </tr>\n",
       "    <tr>\n",
       "      <th>max</th>\n",
       "      <td>31.000000</td>\n",
       "      <td>12.000000</td>\n",
       "      <td>2020.000000</td>\n",
       "      <td>34272.000000</td>\n",
       "      <td>2004.000000</td>\n",
       "      <td>1.392730e+09</td>\n",
       "    </tr>\n",
       "  </tbody>\n",
       "</table>\n",
       "</div>"
      ],
      "text/plain": [
       "               day        month         year         cases       deaths  \\\n",
       "count  9310.000000  9310.000000  9310.000000   9310.000000  9310.000000   \n",
       "mean     15.713426     2.561117  2019.992803    141.459506     7.955532   \n",
       "std       9.462419     1.281713     0.084531   1104.270540    66.660811   \n",
       "min       1.000000     1.000000  2019.000000     -9.000000     0.000000   \n",
       "25%       6.000000     2.000000  2020.000000      0.000000     0.000000   \n",
       "50%      16.000000     3.000000  2020.000000      0.000000     0.000000   \n",
       "75%      24.000000     3.000000  2020.000000     12.000000     0.000000   \n",
       "max      31.000000    12.000000  2020.000000  34272.000000  2004.000000   \n",
       "\n",
       "        popData2018  \n",
       "count  9.172000e+03  \n",
       "mean   6.488272e+07  \n",
       "std    2.026134e+08  \n",
       "min    1.000000e+03  \n",
       "25%    3.731000e+06  \n",
       "50%    1.062716e+07  \n",
       "75%    4.449450e+07  \n",
       "max    1.392730e+09  "
      ]
     },
     "execution_count": 15,
     "metadata": {},
     "output_type": "execute_result"
    }
   ],
   "source": [
    "# give some brief summary stats\n",
    "df.describe()"
   ]
  },
  {
   "cell_type": "markdown",
   "metadata": {},
   "source": [
    "##### be sure these summary stats are meaningful given your data\n",
    "* ex. the mean of the day, month or year is not helpful\n",
    "* the mean of the cases is not helpful because different countries\n",
    "started reporting at different times\n",
    "* max cases seems helpful\n",
    "    * does a max case count for a given country in one day make sense as 34,272?"
   ]
  },
  {
   "cell_type": "code",
   "execution_count": 16,
   "metadata": {},
   "outputs": [
    {
     "data": {
      "text/html": [
       "<div>\n",
       "<style scoped>\n",
       "    .dataframe tbody tr th:only-of-type {\n",
       "        vertical-align: middle;\n",
       "    }\n",
       "\n",
       "    .dataframe tbody tr th {\n",
       "        vertical-align: top;\n",
       "    }\n",
       "\n",
       "    .dataframe thead th {\n",
       "        text-align: right;\n",
       "    }\n",
       "</style>\n",
       "<table border=\"1\" class=\"dataframe\">\n",
       "  <thead>\n",
       "    <tr style=\"text-align: right;\">\n",
       "      <th></th>\n",
       "      <th>dateRep</th>\n",
       "      <th>day</th>\n",
       "      <th>month</th>\n",
       "      <th>year</th>\n",
       "      <th>cases</th>\n",
       "      <th>deaths</th>\n",
       "      <th>countriesAndTerritories</th>\n",
       "      <th>geoId</th>\n",
       "      <th>countryterritoryCode</th>\n",
       "      <th>popData2018</th>\n",
       "    </tr>\n",
       "  </thead>\n",
       "  <tbody>\n",
       "    <tr>\n",
       "      <th>0</th>\n",
       "      <td>07/04/2020</td>\n",
       "      <td>7</td>\n",
       "      <td>4</td>\n",
       "      <td>2020</td>\n",
       "      <td>38</td>\n",
       "      <td>0</td>\n",
       "      <td>Afghanistan</td>\n",
       "      <td>AF</td>\n",
       "      <td>AFG</td>\n",
       "      <td>37172386.0</td>\n",
       "    </tr>\n",
       "    <tr>\n",
       "      <th>1</th>\n",
       "      <td>06/04/2020</td>\n",
       "      <td>6</td>\n",
       "      <td>4</td>\n",
       "      <td>2020</td>\n",
       "      <td>29</td>\n",
       "      <td>2</td>\n",
       "      <td>Afghanistan</td>\n",
       "      <td>AF</td>\n",
       "      <td>AFG</td>\n",
       "      <td>37172386.0</td>\n",
       "    </tr>\n",
       "    <tr>\n",
       "      <th>2</th>\n",
       "      <td>05/04/2020</td>\n",
       "      <td>5</td>\n",
       "      <td>4</td>\n",
       "      <td>2020</td>\n",
       "      <td>35</td>\n",
       "      <td>1</td>\n",
       "      <td>Afghanistan</td>\n",
       "      <td>AF</td>\n",
       "      <td>AFG</td>\n",
       "      <td>37172386.0</td>\n",
       "    </tr>\n",
       "    <tr>\n",
       "      <th>3</th>\n",
       "      <td>04/04/2020</td>\n",
       "      <td>4</td>\n",
       "      <td>4</td>\n",
       "      <td>2020</td>\n",
       "      <td>0</td>\n",
       "      <td>0</td>\n",
       "      <td>Afghanistan</td>\n",
       "      <td>AF</td>\n",
       "      <td>AFG</td>\n",
       "      <td>37172386.0</td>\n",
       "    </tr>\n",
       "    <tr>\n",
       "      <th>4</th>\n",
       "      <td>03/04/2020</td>\n",
       "      <td>3</td>\n",
       "      <td>4</td>\n",
       "      <td>2020</td>\n",
       "      <td>43</td>\n",
       "      <td>0</td>\n",
       "      <td>Afghanistan</td>\n",
       "      <td>AF</td>\n",
       "      <td>AFG</td>\n",
       "      <td>37172386.0</td>\n",
       "    </tr>\n",
       "    <tr>\n",
       "      <th>5</th>\n",
       "      <td>02/04/2020</td>\n",
       "      <td>2</td>\n",
       "      <td>4</td>\n",
       "      <td>2020</td>\n",
       "      <td>26</td>\n",
       "      <td>0</td>\n",
       "      <td>Afghanistan</td>\n",
       "      <td>AF</td>\n",
       "      <td>AFG</td>\n",
       "      <td>37172386.0</td>\n",
       "    </tr>\n",
       "    <tr>\n",
       "      <th>6</th>\n",
       "      <td>01/04/2020</td>\n",
       "      <td>1</td>\n",
       "      <td>4</td>\n",
       "      <td>2020</td>\n",
       "      <td>25</td>\n",
       "      <td>0</td>\n",
       "      <td>Afghanistan</td>\n",
       "      <td>AF</td>\n",
       "      <td>AFG</td>\n",
       "      <td>37172386.0</td>\n",
       "    </tr>\n",
       "    <tr>\n",
       "      <th>7</th>\n",
       "      <td>31/03/2020</td>\n",
       "      <td>31</td>\n",
       "      <td>3</td>\n",
       "      <td>2020</td>\n",
       "      <td>27</td>\n",
       "      <td>0</td>\n",
       "      <td>Afghanistan</td>\n",
       "      <td>AF</td>\n",
       "      <td>AFG</td>\n",
       "      <td>37172386.0</td>\n",
       "    </tr>\n",
       "    <tr>\n",
       "      <th>8</th>\n",
       "      <td>30/03/2020</td>\n",
       "      <td>30</td>\n",
       "      <td>3</td>\n",
       "      <td>2020</td>\n",
       "      <td>8</td>\n",
       "      <td>1</td>\n",
       "      <td>Afghanistan</td>\n",
       "      <td>AF</td>\n",
       "      <td>AFG</td>\n",
       "      <td>37172386.0</td>\n",
       "    </tr>\n",
       "    <tr>\n",
       "      <th>9</th>\n",
       "      <td>29/03/2020</td>\n",
       "      <td>29</td>\n",
       "      <td>3</td>\n",
       "      <td>2020</td>\n",
       "      <td>15</td>\n",
       "      <td>1</td>\n",
       "      <td>Afghanistan</td>\n",
       "      <td>AF</td>\n",
       "      <td>AFG</td>\n",
       "      <td>37172386.0</td>\n",
       "    </tr>\n",
       "  </tbody>\n",
       "</table>\n",
       "</div>"
      ],
      "text/plain": [
       "      dateRep  day  month  year  cases  deaths countriesAndTerritories geoId  \\\n",
       "0  07/04/2020    7      4  2020     38       0             Afghanistan    AF   \n",
       "1  06/04/2020    6      4  2020     29       2             Afghanistan    AF   \n",
       "2  05/04/2020    5      4  2020     35       1             Afghanistan    AF   \n",
       "3  04/04/2020    4      4  2020      0       0             Afghanistan    AF   \n",
       "4  03/04/2020    3      4  2020     43       0             Afghanistan    AF   \n",
       "5  02/04/2020    2      4  2020     26       0             Afghanistan    AF   \n",
       "6  01/04/2020    1      4  2020     25       0             Afghanistan    AF   \n",
       "7  31/03/2020   31      3  2020     27       0             Afghanistan    AF   \n",
       "8  30/03/2020   30      3  2020      8       1             Afghanistan    AF   \n",
       "9  29/03/2020   29      3  2020     15       1             Afghanistan    AF   \n",
       "\n",
       "  countryterritoryCode  popData2018  \n",
       "0                  AFG   37172386.0  \n",
       "1                  AFG   37172386.0  \n",
       "2                  AFG   37172386.0  \n",
       "3                  AFG   37172386.0  \n",
       "4                  AFG   37172386.0  \n",
       "5                  AFG   37172386.0  \n",
       "6                  AFG   37172386.0  \n",
       "7                  AFG   37172386.0  \n",
       "8                  AFG   37172386.0  \n",
       "9                  AFG   37172386.0  "
      ]
     },
     "execution_count": 16,
     "metadata": {},
     "output_type": "execute_result"
    }
   ],
   "source": [
    "# view top 10 rows\n",
    "df.head(10)"
   ]
  },
  {
   "cell_type": "markdown",
   "metadata": {},
   "source": [
    "#### Notes\n",
    "* it looks like this data is in alphabetical order\n",
    "    * secondarily, it looks like it's in reverse chronological order\n",
    "* daily reports of cases and deaths per country"
   ]
  },
  {
   "cell_type": "code",
   "execution_count": 17,
   "metadata": {},
   "outputs": [
    {
     "data": {
      "text/html": [
       "<div>\n",
       "<style scoped>\n",
       "    .dataframe tbody tr th:only-of-type {\n",
       "        vertical-align: middle;\n",
       "    }\n",
       "\n",
       "    .dataframe tbody tr th {\n",
       "        vertical-align: top;\n",
       "    }\n",
       "\n",
       "    .dataframe thead th {\n",
       "        text-align: right;\n",
       "    }\n",
       "</style>\n",
       "<table border=\"1\" class=\"dataframe\">\n",
       "  <thead>\n",
       "    <tr style=\"text-align: right;\">\n",
       "      <th></th>\n",
       "      <th>dateRep</th>\n",
       "      <th>day</th>\n",
       "      <th>month</th>\n",
       "      <th>year</th>\n",
       "      <th>cases</th>\n",
       "      <th>deaths</th>\n",
       "      <th>countriesAndTerritories</th>\n",
       "      <th>geoId</th>\n",
       "      <th>countryterritoryCode</th>\n",
       "      <th>popData2018</th>\n",
       "    </tr>\n",
       "  </thead>\n",
       "  <tbody>\n",
       "    <tr>\n",
       "      <th>9300</th>\n",
       "      <td>30/03/2020</td>\n",
       "      <td>30</td>\n",
       "      <td>3</td>\n",
       "      <td>2020</td>\n",
       "      <td>0</td>\n",
       "      <td>0</td>\n",
       "      <td>Zimbabwe</td>\n",
       "      <td>ZW</td>\n",
       "      <td>ZWE</td>\n",
       "      <td>14439018.0</td>\n",
       "    </tr>\n",
       "    <tr>\n",
       "      <th>9301</th>\n",
       "      <td>29/03/2020</td>\n",
       "      <td>29</td>\n",
       "      <td>3</td>\n",
       "      <td>2020</td>\n",
       "      <td>2</td>\n",
       "      <td>0</td>\n",
       "      <td>Zimbabwe</td>\n",
       "      <td>ZW</td>\n",
       "      <td>ZWE</td>\n",
       "      <td>14439018.0</td>\n",
       "    </tr>\n",
       "    <tr>\n",
       "      <th>9302</th>\n",
       "      <td>28/03/2020</td>\n",
       "      <td>28</td>\n",
       "      <td>3</td>\n",
       "      <td>2020</td>\n",
       "      <td>2</td>\n",
       "      <td>0</td>\n",
       "      <td>Zimbabwe</td>\n",
       "      <td>ZW</td>\n",
       "      <td>ZWE</td>\n",
       "      <td>14439018.0</td>\n",
       "    </tr>\n",
       "    <tr>\n",
       "      <th>9303</th>\n",
       "      <td>27/03/2020</td>\n",
       "      <td>27</td>\n",
       "      <td>3</td>\n",
       "      <td>2020</td>\n",
       "      <td>0</td>\n",
       "      <td>0</td>\n",
       "      <td>Zimbabwe</td>\n",
       "      <td>ZW</td>\n",
       "      <td>ZWE</td>\n",
       "      <td>14439018.0</td>\n",
       "    </tr>\n",
       "    <tr>\n",
       "      <th>9304</th>\n",
       "      <td>26/03/2020</td>\n",
       "      <td>26</td>\n",
       "      <td>3</td>\n",
       "      <td>2020</td>\n",
       "      <td>1</td>\n",
       "      <td>0</td>\n",
       "      <td>Zimbabwe</td>\n",
       "      <td>ZW</td>\n",
       "      <td>ZWE</td>\n",
       "      <td>14439018.0</td>\n",
       "    </tr>\n",
       "    <tr>\n",
       "      <th>9305</th>\n",
       "      <td>25/03/2020</td>\n",
       "      <td>25</td>\n",
       "      <td>3</td>\n",
       "      <td>2020</td>\n",
       "      <td>0</td>\n",
       "      <td>0</td>\n",
       "      <td>Zimbabwe</td>\n",
       "      <td>ZW</td>\n",
       "      <td>ZWE</td>\n",
       "      <td>14439018.0</td>\n",
       "    </tr>\n",
       "    <tr>\n",
       "      <th>9306</th>\n",
       "      <td>24/03/2020</td>\n",
       "      <td>24</td>\n",
       "      <td>3</td>\n",
       "      <td>2020</td>\n",
       "      <td>0</td>\n",
       "      <td>1</td>\n",
       "      <td>Zimbabwe</td>\n",
       "      <td>ZW</td>\n",
       "      <td>ZWE</td>\n",
       "      <td>14439018.0</td>\n",
       "    </tr>\n",
       "    <tr>\n",
       "      <th>9307</th>\n",
       "      <td>23/03/2020</td>\n",
       "      <td>23</td>\n",
       "      <td>3</td>\n",
       "      <td>2020</td>\n",
       "      <td>0</td>\n",
       "      <td>0</td>\n",
       "      <td>Zimbabwe</td>\n",
       "      <td>ZW</td>\n",
       "      <td>ZWE</td>\n",
       "      <td>14439018.0</td>\n",
       "    </tr>\n",
       "    <tr>\n",
       "      <th>9308</th>\n",
       "      <td>22/03/2020</td>\n",
       "      <td>22</td>\n",
       "      <td>3</td>\n",
       "      <td>2020</td>\n",
       "      <td>1</td>\n",
       "      <td>0</td>\n",
       "      <td>Zimbabwe</td>\n",
       "      <td>ZW</td>\n",
       "      <td>ZWE</td>\n",
       "      <td>14439018.0</td>\n",
       "    </tr>\n",
       "    <tr>\n",
       "      <th>9309</th>\n",
       "      <td>21/03/2020</td>\n",
       "      <td>21</td>\n",
       "      <td>3</td>\n",
       "      <td>2020</td>\n",
       "      <td>1</td>\n",
       "      <td>0</td>\n",
       "      <td>Zimbabwe</td>\n",
       "      <td>ZW</td>\n",
       "      <td>ZWE</td>\n",
       "      <td>14439018.0</td>\n",
       "    </tr>\n",
       "  </tbody>\n",
       "</table>\n",
       "</div>"
      ],
      "text/plain": [
       "         dateRep  day  month  year  cases  deaths countriesAndTerritories  \\\n",
       "9300  30/03/2020   30      3  2020      0       0                Zimbabwe   \n",
       "9301  29/03/2020   29      3  2020      2       0                Zimbabwe   \n",
       "9302  28/03/2020   28      3  2020      2       0                Zimbabwe   \n",
       "9303  27/03/2020   27      3  2020      0       0                Zimbabwe   \n",
       "9304  26/03/2020   26      3  2020      1       0                Zimbabwe   \n",
       "9305  25/03/2020   25      3  2020      0       0                Zimbabwe   \n",
       "9306  24/03/2020   24      3  2020      0       1                Zimbabwe   \n",
       "9307  23/03/2020   23      3  2020      0       0                Zimbabwe   \n",
       "9308  22/03/2020   22      3  2020      1       0                Zimbabwe   \n",
       "9309  21/03/2020   21      3  2020      1       0                Zimbabwe   \n",
       "\n",
       "     geoId countryterritoryCode  popData2018  \n",
       "9300    ZW                  ZWE   14439018.0  \n",
       "9301    ZW                  ZWE   14439018.0  \n",
       "9302    ZW                  ZWE   14439018.0  \n",
       "9303    ZW                  ZWE   14439018.0  \n",
       "9304    ZW                  ZWE   14439018.0  \n",
       "9305    ZW                  ZWE   14439018.0  \n",
       "9306    ZW                  ZWE   14439018.0  \n",
       "9307    ZW                  ZWE   14439018.0  \n",
       "9308    ZW                  ZWE   14439018.0  \n",
       "9309    ZW                  ZWE   14439018.0  "
      ]
     },
     "execution_count": 17,
     "metadata": {},
     "output_type": "execute_result"
    }
   ],
   "source": [
    "# view last 10 rows\n",
    "df.tail(10)"
   ]
  },
  {
   "cell_type": "markdown",
   "metadata": {},
   "source": [
    "##### When does it seem that the EU started getting reporting on COVID-19 from Zimbabwe?\n",
    "- it looks like March 21, 2020"
   ]
  },
  {
   "cell_type": "markdown",
   "metadata": {},
   "source": [
    "### Dump the dataframe to an excel spreadsheet"
   ]
  },
  {
   "cell_type": "code",
   "execution_count": 19,
   "metadata": {},
   "outputs": [],
   "source": [
    "df.to_excel('data/2020_04_07__data_europa_eu__covid_19_data.xls')"
   ]
  },
  {
   "cell_type": "markdown",
   "metadata": {},
   "source": [
    "<br><br><br>\n",
    "## Notation Methods"
   ]
  },
  {
   "cell_type": "code",
   "execution_count": 20,
   "metadata": {},
   "outputs": [
    {
     "data": {
      "text/plain": [
       "0    07/04/2020\n",
       "1    06/04/2020\n",
       "2    05/04/2020\n",
       "3    04/04/2020\n",
       "4    03/04/2020\n",
       "Name: dateRep, dtype: object"
      ]
     },
     "execution_count": 20,
     "metadata": {},
     "output_type": "execute_result"
    }
   ],
   "source": [
    "# dot notation\n",
    "df.dateRep.head()"
   ]
  },
  {
   "cell_type": "code",
   "execution_count": 21,
   "metadata": {},
   "outputs": [
    {
     "data": {
      "text/plain": [
       "0    07/04/2020\n",
       "1    06/04/2020\n",
       "2    05/04/2020\n",
       "3    04/04/2020\n",
       "4    03/04/2020\n",
       "Name: dateRep, dtype: object"
      ]
     },
     "execution_count": 21,
     "metadata": {},
     "output_type": "execute_result"
    }
   ],
   "source": [
    "# bracket notation\n",
    "df['dateRep'].head()"
   ]
  },
  {
   "cell_type": "code",
   "execution_count": 22,
   "metadata": {},
   "outputs": [
    {
     "data": {
      "text/plain": [
       "count           9310\n",
       "unique            99\n",
       "top       07/04/2020\n",
       "freq             203\n",
       "Name: dateRep, dtype: object"
      ]
     },
     "execution_count": 22,
     "metadata": {},
     "output_type": "execute_result"
    }
   ],
   "source": [
    "df['dateRep'].describe()"
   ]
  },
  {
   "cell_type": "markdown",
   "metadata": {},
   "source": [
    "##### How many unique countries have reported?"
   ]
  },
  {
   "cell_type": "code",
   "execution_count": 23,
   "metadata": {},
   "outputs": [
    {
     "data": {
      "text/plain": [
       "count            9310\n",
       "unique            204\n",
       "top       Switzerland\n",
       "freq               99\n",
       "Name: countriesAndTerritories, dtype: object"
      ]
     },
     "execution_count": 23,
     "metadata": {},
     "output_type": "execute_result"
    }
   ],
   "source": [
    "df['countriesAndTerritories'].describe()"
   ]
  },
  {
   "cell_type": "markdown",
   "metadata": {},
   "source": [
    "##### What are the unique countries that have reported?"
   ]
  },
  {
   "cell_type": "code",
   "execution_count": 24,
   "metadata": {},
   "outputs": [
    {
     "name": "stdout",
     "output_type": "stream",
     "text": [
      "204 countries have reported\n",
      "   Afghanistan\n",
      "   Albania\n",
      "   Andorra\n",
      "   Algeria\n",
      "   Angola\n",
      "   Anguilla\n",
      "   Antigua_and_Barbuda\n",
      "   Argentina\n",
      "   Armenia\n",
      "   Aruba\n",
      "   Australia\n",
      "   Austria\n",
      "   Azerbaijan\n",
      "   Bahamas\n",
      "   Bahrain\n",
      "   Bangladesh\n",
      "   Barbados\n",
      "   Belarus\n",
      "   Belgium\n",
      "   Belize\n",
      "   Benin\n",
      "   Bermuda\n",
      "   Bhutan\n",
      "   Bolivia\n",
      "   Bonaire, Saint Eustatius and Saba\n",
      "   Bosnia_and_Herzegovina\n",
      "   Botswana\n",
      "   Brazil\n",
      "   British_Virgin_Islands\n",
      "   Brunei_Darussalam\n",
      "   Bulgaria\n",
      "   Burkina_Faso\n",
      "   Burundi\n",
      "   Cambodia\n",
      "   Cameroon\n",
      "   Canada\n",
      "   Cape_Verde\n",
      "   Cases_on_an_international_conveyance_Japan\n",
      "   Cayman_Islands\n",
      "   Central_African_Republic\n",
      "   Chad\n",
      "   Chile\n",
      "   China\n",
      "   Colombia\n",
      "   Congo\n",
      "   Costa_Rica\n",
      "   Cote_dIvoire\n",
      "   Croatia\n",
      "   Cuba\n",
      "   Curaçao\n",
      "   Cyprus\n",
      "   Czechia\n",
      "   Democratic_Republic_of_the_Congo\n",
      "   Denmark\n",
      "   Djibouti\n",
      "   Dominica\n",
      "   Dominican_Republic\n",
      "   Ecuador\n",
      "   Egypt\n",
      "   El_Salvador\n",
      "   Equatorial_Guinea\n",
      "   Eritrea\n",
      "   Estonia\n",
      "   Eswatini\n",
      "   Ethiopia\n",
      "   Falkland_Islands_(Malvinas)\n",
      "   Faroe_Islands\n",
      "   Fiji\n",
      "   Finland\n",
      "   France\n",
      "   French_Polynesia\n",
      "   Gabon\n",
      "   Gambia\n",
      "   Georgia\n",
      "   Germany\n",
      "   Ghana\n",
      "   Gibraltar\n",
      "   Greece\n",
      "   Greenland\n",
      "   Grenada\n",
      "   Guam\n",
      "   Guatemala\n",
      "   Guernsey\n",
      "   Guinea\n",
      "   Guinea_Bissau\n",
      "   Guyana\n",
      "   Haiti\n",
      "   Holy_See\n",
      "   Honduras\n",
      "   Hungary\n",
      "   Iceland\n",
      "   India\n",
      "   Indonesia\n",
      "   Iran\n",
      "   Iraq\n",
      "   Ireland\n",
      "   Isle_of_Man\n",
      "   Israel\n",
      "   Italy\n",
      "   Jamaica\n",
      "   Japan\n",
      "   Jersey\n",
      "   Jordan\n",
      "   Kazakhstan\n",
      "   Kenya\n",
      "   Kosovo\n",
      "   Kuwait\n",
      "   Kyrgyzstan\n",
      "   Laos\n",
      "   Latvia\n",
      "   Lebanon\n",
      "   Liberia\n",
      "   Libya\n",
      "   Liechtenstein\n",
      "   Lithuania\n",
      "   Luxembourg\n",
      "   Madagascar\n",
      "   Malawi\n",
      "   Malaysia\n",
      "   Maldives\n",
      "   Mali\n",
      "   Malta\n",
      "   Mauritania\n",
      "   Mauritius\n",
      "   Mexico\n",
      "   Moldova\n",
      "   Monaco\n",
      "   Mongolia\n",
      "   Montenegro\n",
      "   Montserrat\n",
      "   Morocco\n",
      "   Mozambique\n",
      "   Myanmar\n",
      "   Namibia\n",
      "   Nepal\n",
      "   Netherlands\n",
      "   New_Caledonia\n",
      "   New_Zealand\n",
      "   Nicaragua\n",
      "   Niger\n",
      "   Nigeria\n",
      "   North_Macedonia\n",
      "   Northern_Mariana_Islands\n",
      "   Norway\n",
      "   Oman\n",
      "   Pakistan\n",
      "   Palestine\n",
      "   Panama\n",
      "   Papua_New_Guinea\n",
      "   Paraguay\n",
      "   Peru\n",
      "   Philippines\n",
      "   Poland\n",
      "   Portugal\n",
      "   Puerto_Rico\n",
      "   Qatar\n",
      "   Romania\n",
      "   Russia\n",
      "   Rwanda\n",
      "   Saint_Kitts_and_Nevis\n",
      "   Saint_Lucia\n",
      "   Saint_Vincent_and_the_Grenadines\n",
      "   San_Marino\n",
      "   Saudi_Arabia\n",
      "   Senegal\n",
      "   Serbia\n",
      "   Seychelles\n",
      "   Sierra_Leone\n",
      "   Singapore\n",
      "   Sint_Maarten\n",
      "   Slovakia\n",
      "   Slovenia\n",
      "   Somalia\n",
      "   South_Africa\n",
      "   South_Korea\n",
      "   South_Sudan\n",
      "   Spain\n",
      "   Sri_Lanka\n",
      "   Sudan\n",
      "   Suriname\n",
      "   Sweden\n",
      "   Switzerland\n",
      "   Syria\n",
      "   Taiwan\n",
      "   Thailand\n",
      "   Timor_Leste\n",
      "   Togo\n",
      "   Trinidad_and_Tobago\n",
      "   Tunisia\n",
      "   Turkey\n",
      "   Turks_and_Caicos_islands\n",
      "   Uganda\n",
      "   Ukraine\n",
      "   United_Arab_Emirates\n",
      "   United_Kingdom\n",
      "   United_Republic_of_Tanzania\n",
      "   United_States_of_America\n",
      "   United_States_Virgin_Islands\n",
      "   Uruguay\n",
      "   Uzbekistan\n",
      "   Venezuela\n",
      "   Vietnam\n",
      "   Zambia\n",
      "   Zimbabwe\n"
     ]
    }
   ],
   "source": [
    "num_countries_reported = len(df[\"countriesAndTerritories\"].unique())\n",
    "print(f'{num_countries_reported} countries have reported')\n",
    "\n",
    "for country_name in df['countriesAndTerritories'].unique():\n",
    "    print('  ',country_name)"
   ]
  },
  {
   "cell_type": "markdown",
   "metadata": {},
   "source": [
    "<br><br><br>\n",
    "### Slice notation for dataframes\n",
    "* `.loc`: access a slice of rows\n",
    "    * is inclusive\n",
    "* slice notation `[:]`\n",
    "    * exclusive of the higher bound\n",
    "* `.iloc`"
   ]
  },
  {
   "cell_type": "code",
   "execution_count": 25,
   "metadata": {},
   "outputs": [
    {
     "data": {
      "text/html": [
       "<div>\n",
       "<style scoped>\n",
       "    .dataframe tbody tr th:only-of-type {\n",
       "        vertical-align: middle;\n",
       "    }\n",
       "\n",
       "    .dataframe tbody tr th {\n",
       "        vertical-align: top;\n",
       "    }\n",
       "\n",
       "    .dataframe thead th {\n",
       "        text-align: right;\n",
       "    }\n",
       "</style>\n",
       "<table border=\"1\" class=\"dataframe\">\n",
       "  <thead>\n",
       "    <tr style=\"text-align: right;\">\n",
       "      <th></th>\n",
       "      <th>dateRep</th>\n",
       "      <th>day</th>\n",
       "      <th>month</th>\n",
       "      <th>year</th>\n",
       "      <th>cases</th>\n",
       "      <th>deaths</th>\n",
       "      <th>countriesAndTerritories</th>\n",
       "      <th>geoId</th>\n",
       "      <th>countryterritoryCode</th>\n",
       "      <th>popData2018</th>\n",
       "    </tr>\n",
       "  </thead>\n",
       "  <tbody>\n",
       "    <tr>\n",
       "      <th>300</th>\n",
       "      <td>24/03/2020</td>\n",
       "      <td>24</td>\n",
       "      <td>3</td>\n",
       "      <td>2020</td>\n",
       "      <td>35</td>\n",
       "      <td>0</td>\n",
       "      <td>Argentina</td>\n",
       "      <td>AR</td>\n",
       "      <td>ARG</td>\n",
       "      <td>44494502.0</td>\n",
       "    </tr>\n",
       "    <tr>\n",
       "      <th>301</th>\n",
       "      <td>23/03/2020</td>\n",
       "      <td>23</td>\n",
       "      <td>3</td>\n",
       "      <td>2020</td>\n",
       "      <td>41</td>\n",
       "      <td>0</td>\n",
       "      <td>Argentina</td>\n",
       "      <td>AR</td>\n",
       "      <td>ARG</td>\n",
       "      <td>44494502.0</td>\n",
       "    </tr>\n",
       "    <tr>\n",
       "      <th>302</th>\n",
       "      <td>22/03/2020</td>\n",
       "      <td>22</td>\n",
       "      <td>3</td>\n",
       "      <td>2020</td>\n",
       "      <td>67</td>\n",
       "      <td>1</td>\n",
       "      <td>Argentina</td>\n",
       "      <td>AR</td>\n",
       "      <td>ARG</td>\n",
       "      <td>44494502.0</td>\n",
       "    </tr>\n",
       "    <tr>\n",
       "      <th>303</th>\n",
       "      <td>21/03/2020</td>\n",
       "      <td>21</td>\n",
       "      <td>3</td>\n",
       "      <td>2020</td>\n",
       "      <td>30</td>\n",
       "      <td>0</td>\n",
       "      <td>Argentina</td>\n",
       "      <td>AR</td>\n",
       "      <td>ARG</td>\n",
       "      <td>44494502.0</td>\n",
       "    </tr>\n",
       "    <tr>\n",
       "      <th>304</th>\n",
       "      <td>20/03/2020</td>\n",
       "      <td>20</td>\n",
       "      <td>3</td>\n",
       "      <td>2020</td>\n",
       "      <td>31</td>\n",
       "      <td>1</td>\n",
       "      <td>Argentina</td>\n",
       "      <td>AR</td>\n",
       "      <td>ARG</td>\n",
       "      <td>44494502.0</td>\n",
       "    </tr>\n",
       "    <tr>\n",
       "      <th>305</th>\n",
       "      <td>19/03/2020</td>\n",
       "      <td>19</td>\n",
       "      <td>3</td>\n",
       "      <td>2020</td>\n",
       "      <td>18</td>\n",
       "      <td>0</td>\n",
       "      <td>Argentina</td>\n",
       "      <td>AR</td>\n",
       "      <td>ARG</td>\n",
       "      <td>44494502.0</td>\n",
       "    </tr>\n",
       "    <tr>\n",
       "      <th>306</th>\n",
       "      <td>18/03/2020</td>\n",
       "      <td>18</td>\n",
       "      <td>3</td>\n",
       "      <td>2020</td>\n",
       "      <td>14</td>\n",
       "      <td>0</td>\n",
       "      <td>Argentina</td>\n",
       "      <td>AR</td>\n",
       "      <td>ARG</td>\n",
       "      <td>44494502.0</td>\n",
       "    </tr>\n",
       "    <tr>\n",
       "      <th>307</th>\n",
       "      <td>17/03/2020</td>\n",
       "      <td>17</td>\n",
       "      <td>3</td>\n",
       "      <td>2020</td>\n",
       "      <td>9</td>\n",
       "      <td>0</td>\n",
       "      <td>Argentina</td>\n",
       "      <td>AR</td>\n",
       "      <td>ARG</td>\n",
       "      <td>44494502.0</td>\n",
       "    </tr>\n",
       "    <tr>\n",
       "      <th>308</th>\n",
       "      <td>16/03/2020</td>\n",
       "      <td>16</td>\n",
       "      <td>3</td>\n",
       "      <td>2020</td>\n",
       "      <td>11</td>\n",
       "      <td>0</td>\n",
       "      <td>Argentina</td>\n",
       "      <td>AR</td>\n",
       "      <td>ARG</td>\n",
       "      <td>44494502.0</td>\n",
       "    </tr>\n",
       "    <tr>\n",
       "      <th>309</th>\n",
       "      <td>15/03/2020</td>\n",
       "      <td>15</td>\n",
       "      <td>3</td>\n",
       "      <td>2020</td>\n",
       "      <td>11</td>\n",
       "      <td>0</td>\n",
       "      <td>Argentina</td>\n",
       "      <td>AR</td>\n",
       "      <td>ARG</td>\n",
       "      <td>44494502.0</td>\n",
       "    </tr>\n",
       "  </tbody>\n",
       "</table>\n",
       "</div>"
      ],
      "text/plain": [
       "        dateRep  day  month  year  cases  deaths countriesAndTerritories  \\\n",
       "300  24/03/2020   24      3  2020     35       0               Argentina   \n",
       "301  23/03/2020   23      3  2020     41       0               Argentina   \n",
       "302  22/03/2020   22      3  2020     67       1               Argentina   \n",
       "303  21/03/2020   21      3  2020     30       0               Argentina   \n",
       "304  20/03/2020   20      3  2020     31       1               Argentina   \n",
       "305  19/03/2020   19      3  2020     18       0               Argentina   \n",
       "306  18/03/2020   18      3  2020     14       0               Argentina   \n",
       "307  17/03/2020   17      3  2020      9       0               Argentina   \n",
       "308  16/03/2020   16      3  2020     11       0               Argentina   \n",
       "309  15/03/2020   15      3  2020     11       0               Argentina   \n",
       "\n",
       "    geoId countryterritoryCode  popData2018  \n",
       "300    AR                  ARG   44494502.0  \n",
       "301    AR                  ARG   44494502.0  \n",
       "302    AR                  ARG   44494502.0  \n",
       "303    AR                  ARG   44494502.0  \n",
       "304    AR                  ARG   44494502.0  \n",
       "305    AR                  ARG   44494502.0  \n",
       "306    AR                  ARG   44494502.0  \n",
       "307    AR                  ARG   44494502.0  \n",
       "308    AR                  ARG   44494502.0  \n",
       "309    AR                  ARG   44494502.0  "
      ]
     },
     "execution_count": 25,
     "metadata": {},
     "output_type": "execute_result"
    }
   ],
   "source": [
    "df[300:310]"
   ]
  },
  {
   "cell_type": "code",
   "execution_count": 26,
   "metadata": {},
   "outputs": [
    {
     "data": {
      "text/html": [
       "<div>\n",
       "<style scoped>\n",
       "    .dataframe tbody tr th:only-of-type {\n",
       "        vertical-align: middle;\n",
       "    }\n",
       "\n",
       "    .dataframe tbody tr th {\n",
       "        vertical-align: top;\n",
       "    }\n",
       "\n",
       "    .dataframe thead th {\n",
       "        text-align: right;\n",
       "    }\n",
       "</style>\n",
       "<table border=\"1\" class=\"dataframe\">\n",
       "  <thead>\n",
       "    <tr style=\"text-align: right;\">\n",
       "      <th></th>\n",
       "      <th>countriesAndTerritories</th>\n",
       "      <th>cases</th>\n",
       "      <th>deaths</th>\n",
       "    </tr>\n",
       "  </thead>\n",
       "  <tbody>\n",
       "    <tr>\n",
       "      <th>300</th>\n",
       "      <td>Argentina</td>\n",
       "      <td>35</td>\n",
       "      <td>0</td>\n",
       "    </tr>\n",
       "    <tr>\n",
       "      <th>301</th>\n",
       "      <td>Argentina</td>\n",
       "      <td>41</td>\n",
       "      <td>0</td>\n",
       "    </tr>\n",
       "    <tr>\n",
       "      <th>302</th>\n",
       "      <td>Argentina</td>\n",
       "      <td>67</td>\n",
       "      <td>1</td>\n",
       "    </tr>\n",
       "    <tr>\n",
       "      <th>303</th>\n",
       "      <td>Argentina</td>\n",
       "      <td>30</td>\n",
       "      <td>0</td>\n",
       "    </tr>\n",
       "    <tr>\n",
       "      <th>304</th>\n",
       "      <td>Argentina</td>\n",
       "      <td>31</td>\n",
       "      <td>1</td>\n",
       "    </tr>\n",
       "    <tr>\n",
       "      <th>305</th>\n",
       "      <td>Argentina</td>\n",
       "      <td>18</td>\n",
       "      <td>0</td>\n",
       "    </tr>\n",
       "    <tr>\n",
       "      <th>306</th>\n",
       "      <td>Argentina</td>\n",
       "      <td>14</td>\n",
       "      <td>0</td>\n",
       "    </tr>\n",
       "    <tr>\n",
       "      <th>307</th>\n",
       "      <td>Argentina</td>\n",
       "      <td>9</td>\n",
       "      <td>0</td>\n",
       "    </tr>\n",
       "    <tr>\n",
       "      <th>308</th>\n",
       "      <td>Argentina</td>\n",
       "      <td>11</td>\n",
       "      <td>0</td>\n",
       "    </tr>\n",
       "    <tr>\n",
       "      <th>309</th>\n",
       "      <td>Argentina</td>\n",
       "      <td>11</td>\n",
       "      <td>0</td>\n",
       "    </tr>\n",
       "    <tr>\n",
       "      <th>310</th>\n",
       "      <td>Argentina</td>\n",
       "      <td>3</td>\n",
       "      <td>1</td>\n",
       "    </tr>\n",
       "  </tbody>\n",
       "</table>\n",
       "</div>"
      ],
      "text/plain": [
       "    countriesAndTerritories  cases  deaths\n",
       "300               Argentina     35       0\n",
       "301               Argentina     41       0\n",
       "302               Argentina     67       1\n",
       "303               Argentina     30       0\n",
       "304               Argentina     31       1\n",
       "305               Argentina     18       0\n",
       "306               Argentina     14       0\n",
       "307               Argentina      9       0\n",
       "308               Argentina     11       0\n",
       "309               Argentina     11       0\n",
       "310               Argentina      3       1"
      ]
     },
     "execution_count": 26,
     "metadata": {},
     "output_type": "execute_result"
    }
   ],
   "source": [
    "df.loc[300:310, ['countriesAndTerritories','cases','deaths']]"
   ]
  },
  {
   "cell_type": "markdown",
   "metadata": {},
   "source": [
    "### Masking/Filtering"
   ]
  },
  {
   "cell_type": "code",
   "execution_count": 27,
   "metadata": {},
   "outputs": [],
   "source": [
    "# creates a mask where all countries not Peru are set to False\n",
    "peru_mask = df['countriesAndTerritories'] == 'Peru'"
   ]
  },
  {
   "cell_type": "code",
   "execution_count": 28,
   "metadata": {},
   "outputs": [
    {
     "data": {
      "text/plain": [
       "0    False\n",
       "1    False\n",
       "2    False\n",
       "3    False\n",
       "4    False\n",
       "5    False\n",
       "6    False\n",
       "7    False\n",
       "8    False\n",
       "9    False\n",
       "Name: countriesAndTerritories, dtype: bool"
      ]
     },
     "execution_count": 28,
     "metadata": {},
     "output_type": "execute_result"
    }
   ],
   "source": [
    "peru_mask.head(10)"
   ]
  },
  {
   "cell_type": "code",
   "execution_count": 29,
   "metadata": {},
   "outputs": [],
   "source": [
    "df_peru = df[df['countriesAndTerritories'] == 'Peru']"
   ]
  },
  {
   "cell_type": "code",
   "execution_count": 30,
   "metadata": {},
   "outputs": [
    {
     "data": {
      "text/plain": [
       "31"
      ]
     },
     "execution_count": 30,
     "metadata": {},
     "output_type": "execute_result"
    }
   ],
   "source": [
    "# how many times has peru reported?\n",
    "len(df_peru)"
   ]
  },
  {
   "cell_type": "code",
   "execution_count": 31,
   "metadata": {},
   "outputs": [
    {
     "data": {
      "text/html": [
       "<div>\n",
       "<style scoped>\n",
       "    .dataframe tbody tr th:only-of-type {\n",
       "        vertical-align: middle;\n",
       "    }\n",
       "\n",
       "    .dataframe tbody tr th {\n",
       "        vertical-align: top;\n",
       "    }\n",
       "\n",
       "    .dataframe thead th {\n",
       "        text-align: right;\n",
       "    }\n",
       "</style>\n",
       "<table border=\"1\" class=\"dataframe\">\n",
       "  <thead>\n",
       "    <tr style=\"text-align: right;\">\n",
       "      <th></th>\n",
       "      <th>dateRep</th>\n",
       "      <th>day</th>\n",
       "      <th>month</th>\n",
       "      <th>year</th>\n",
       "      <th>cases</th>\n",
       "      <th>deaths</th>\n",
       "      <th>countriesAndTerritories</th>\n",
       "      <th>geoId</th>\n",
       "      <th>countryterritoryCode</th>\n",
       "      <th>popData2018</th>\n",
       "    </tr>\n",
       "  </thead>\n",
       "  <tbody>\n",
       "    <tr>\n",
       "      <th>6846</th>\n",
       "      <td>07/04/2020</td>\n",
       "      <td>7</td>\n",
       "      <td>4</td>\n",
       "      <td>2020</td>\n",
       "      <td>280</td>\n",
       "      <td>9</td>\n",
       "      <td>Peru</td>\n",
       "      <td>PE</td>\n",
       "      <td>PER</td>\n",
       "      <td>31989256.0</td>\n",
       "    </tr>\n",
       "    <tr>\n",
       "      <th>6847</th>\n",
       "      <td>06/04/2020</td>\n",
       "      <td>6</td>\n",
       "      <td>4</td>\n",
       "      <td>2020</td>\n",
       "      <td>535</td>\n",
       "      <td>10</td>\n",
       "      <td>Peru</td>\n",
       "      <td>PE</td>\n",
       "      <td>PER</td>\n",
       "      <td>31989256.0</td>\n",
       "    </tr>\n",
       "    <tr>\n",
       "      <th>6848</th>\n",
       "      <td>05/04/2020</td>\n",
       "      <td>5</td>\n",
       "      <td>4</td>\n",
       "      <td>2020</td>\n",
       "      <td>151</td>\n",
       "      <td>12</td>\n",
       "      <td>Peru</td>\n",
       "      <td>PE</td>\n",
       "      <td>PER</td>\n",
       "      <td>31989256.0</td>\n",
       "    </tr>\n",
       "    <tr>\n",
       "      <th>6849</th>\n",
       "      <td>04/04/2020</td>\n",
       "      <td>4</td>\n",
       "      <td>4</td>\n",
       "      <td>2020</td>\n",
       "      <td>181</td>\n",
       "      <td>6</td>\n",
       "      <td>Peru</td>\n",
       "      <td>PE</td>\n",
       "      <td>PER</td>\n",
       "      <td>31989256.0</td>\n",
       "    </tr>\n",
       "    <tr>\n",
       "      <th>6850</th>\n",
       "      <td>03/04/2020</td>\n",
       "      <td>3</td>\n",
       "      <td>4</td>\n",
       "      <td>2020</td>\n",
       "      <td>91</td>\n",
       "      <td>8</td>\n",
       "      <td>Peru</td>\n",
       "      <td>PE</td>\n",
       "      <td>PER</td>\n",
       "      <td>31989256.0</td>\n",
       "    </tr>\n",
       "  </tbody>\n",
       "</table>\n",
       "</div>"
      ],
      "text/plain": [
       "         dateRep  day  month  year  cases  deaths countriesAndTerritories  \\\n",
       "6846  07/04/2020    7      4  2020    280       9                    Peru   \n",
       "6847  06/04/2020    6      4  2020    535      10                    Peru   \n",
       "6848  05/04/2020    5      4  2020    151      12                    Peru   \n",
       "6849  04/04/2020    4      4  2020    181       6                    Peru   \n",
       "6850  03/04/2020    3      4  2020     91       8                    Peru   \n",
       "\n",
       "     geoId countryterritoryCode  popData2018  \n",
       "6846    PE                  PER   31989256.0  \n",
       "6847    PE                  PER   31989256.0  \n",
       "6848    PE                  PER   31989256.0  \n",
       "6849    PE                  PER   31989256.0  \n",
       "6850    PE                  PER   31989256.0  "
      ]
     },
     "execution_count": 31,
     "metadata": {},
     "output_type": "execute_result"
    }
   ],
   "source": [
    "df_peru.head(5)"
   ]
  },
  {
   "cell_type": "code",
   "execution_count": 32,
   "metadata": {},
   "outputs": [
    {
     "data": {
      "text/plain": [
       "count     31.000000\n",
       "mean      82.612903\n",
       "std      112.906651\n",
       "min        1.000000\n",
       "25%       15.500000\n",
       "50%       32.000000\n",
       "75%      106.500000\n",
       "max      535.000000\n",
       "Name: cases, dtype: float64"
      ]
     },
     "execution_count": 32,
     "metadata": {},
     "output_type": "execute_result"
    }
   ],
   "source": [
    "df_peru.cases.describe()"
   ]
  },
  {
   "cell_type": "code",
   "execution_count": 33,
   "metadata": {},
   "outputs": [
    {
     "data": {
      "text/plain": [
       "count    31.000000\n",
       "mean      2.967742\n",
       "std       4.324225\n",
       "min       0.000000\n",
       "25%       0.000000\n",
       "50%       1.000000\n",
       "75%       5.500000\n",
       "max      17.000000\n",
       "Name: deaths, dtype: float64"
      ]
     },
     "execution_count": 33,
     "metadata": {},
     "output_type": "execute_result"
    }
   ],
   "source": [
    "df_peru.deaths.describe()"
   ]
  },
  {
   "cell_type": "markdown",
   "metadata": {},
   "source": [
    "##### Plot daily cases and deaths in Peru"
   ]
  },
  {
   "cell_type": "code",
   "execution_count": 35,
   "metadata": {},
   "outputs": [
    {
     "data": {
      "image/png": "[encoded data removed]",
      "text/plain": [
       "<Figure size 432x288 with 1 Axes>"
      ]
     },
     "metadata": {
      "needs_background": "light"
     },
     "output_type": "display_data"
    }
   ],
   "source": [
    "import matplotlib.pyplot as plt\n",
    "import matplotlib.patches as mpatches\n",
    "\n",
    "cases_peru = df_peru['cases'][::-1]\n",
    "deaths_peru = df_peru['deaths'][::-1]\n",
    "dates_peru = df_peru['dateRep'][::-1]\n",
    "\n",
    "cases_peru_plot = plt.plot(list(dates_peru), list(cases_peru), color='blue')\n",
    "deaths_peru_plot = plt.plot(list(dates_peru), list(deaths_peru), color='red')\n",
    "plt.ylabel('counts per day')\n",
    "plt.xlabel('date')\n",
    "plt.xticks(rotation=80)\n",
    "plt.title('Cases per day Peru')\n",
    "blue = mpatches.Patch(color='blue', label='Daily cases')\n",
    "red  = mpatches.Patch(color='red', label='Daily deaths')\n",
    "plt.legend(handles=[blue, red])\n",
    "\n",
    "plt.show()"
   ]
  },
  {
   "cell_type": "markdown",
   "metadata": {},
   "source": [
    "<br><br><br>\n",
    "#### Abstract plot to function"
   ]
  },
  {
   "cell_type": "code",
   "execution_count": 44,
   "metadata": {},
   "outputs": [],
   "source": [
    "def plot_daily_cases_deaths(df_to_check, country):\n",
    "    df_country = df_to_check[df_to_check['countriesAndTerritories'] == country]\n",
    "    \n",
    "    \n",
    "    \n",
    "    cases_country = df_country['cases'][::-1]\n",
    "    deaths_country = df_country['deaths'][::-1]\n",
    "    dates_country = list(df_country['dateRep'][::-1])\n",
    "    max_deaths = max(deaths_country)\n",
    "    max_cases = max(cases_country)\n",
    "    \n",
    "    cases_country_plot = plt.plot(list(dates_country), list(cases_country), color='blue')\n",
    "    deaths_country_plot = plt.plot(list(dates_country), list(deaths_country), color='red')\n",
    "    plt.ylabel('counts per day')\n",
    "    plt.xlabel('date')\n",
    "    plt.xticks(rotation=80)\n",
    "    \n",
    "    plt.title(f'max cases in 1 day: {max_cases}, max deaths in 1 day: {max_deaths}')\n",
    "    plt.suptitle(f'{country}: COVID-19 Reporting to EU Open Data', fontsize=14)\n",
    "    blue = mpatches.Patch(color='blue', label='Daily cases')\n",
    "    red  = mpatches.Patch(color='red', label='Daily deaths')\n",
    "    plt.legend(handles=[blue, red])\n",
    "\n",
    "    plt.show()\n",
    "    \n"
   ]
  },
  {
   "cell_type": "code",
   "execution_count": 45,
   "metadata": {},
   "outputs": [
    {
     "data": {
      "image/png": "[encoded data removed]",
      "text/plain": [
       "<Figure size 432x288 with 1 Axes>"
      ]
     },
     "metadata": {
      "needs_background": "light"
     },
     "output_type": "display_data"
    }
   ],
   "source": [
    "plot_daily_cases_deaths(df, 'Peru')"
   ]
  },
  {
   "cell_type": "code",
   "execution_count": null,
   "metadata": {
    "scrolled": false
   },
   "outputs": [
    {
     "data": {
      "image/png": "[encoded data removed]",
      "text/plain": [
       "<Figure size 432x288 with 1 Axes>"
      ]
     },
     "metadata": {
      "needs_background": "light"
     },
     "output_type": "display_data"
    },
    {
     "data": {
      "image/png": "[encoded data removed]",
      "text/plain": [
       "<Figure size 432x288 with 1 Axes>"
      ]
     },
     "metadata": {
      "needs_background": "light"
     },
     "output_type": "display_data"
    },
    {
     "data": {
      "image/png": "[encoded data removed]",
      "text/plain": [
       "<Figure size 432x288 with 1 Axes>"
      ]
     },
     "metadata": {
      "needs_background": "light"
     },
     "output_type": "display_data"
    },
    {
     "data": {
      "image/png": "[encoded data removed]",
      "text/plain": [
       "<Figure size 432x288 with 1 Axes>"
      ]
     },
     "metadata": {
      "needs_background": "light"
     },
     "output_type": "display_data"
    }
   ],
   "source": [
    "for country_name in df['countriesAndTerritories'].unique():\n",
    "    plot_daily_cases_deaths(df, country_name)\n"
   ]
  },
  {
   "cell_type": "code",
   "execution_count": null,
   "metadata": {},
   "outputs": [],
   "source": []
  }
 ],
 "metadata": {
  "kernelspec": {
   "display_name": "Python 3",
   "language": "python",
   "name": "python3"
  },
  "language_info": {
   "codemirror_mode": {
    "name": "ipython",
    "version": 3
   },
   "file_extension": ".py",
   "mimetype": "text/x-python",
   "name": "python",
   "nbconvert_exporter": "python",
   "pygments_lexer": "ipython3",
   "version": "3.6.8"
  }
 },
 "nbformat": 4,
 "nbformat_minor": 2
}
